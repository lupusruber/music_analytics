{
 "cells": [
  {
   "cell_type": "code",
   "execution_count": 1,
   "metadata": {},
   "outputs": [],
   "source": [
    "import os\n",
    "\n",
    "os.environ[\"PYSPARK_SUBMIT_ARGS\"] = (\n",
    "    \"--packages org.apache.spark:spark-streaming-kafka-0-10_2.12:3.2.0,\"\n",
    "    \"org.apache.spark:spark-sql-kafka-0-10_2.12:3.2.0,\"\n",
    "    \"org.postgresql:postgresql:42.5.0 pyspark-shell\"\n",
    ")"
   ]
  },
  {
   "cell_type": "code",
   "execution_count": 4,
   "metadata": {},
   "outputs": [],
   "source": [
    "import pandas as pd\n",
    "\n",
    "df = pd.read_csv(\"/home/lupusruber/music_analytics/dummy_dwh/SongDim.csv\")"
   ]
  },
  {
   "cell_type": "code",
   "execution_count": 6,
   "metadata": {},
   "outputs": [
    {
     "data": {
      "text/plain": [
       "array([1])"
      ]
     },
     "execution_count": 6,
     "metadata": {},
     "output_type": "execute_result"
    }
   ],
   "source": [
    "df.groupby(\"SongSK\").size().reset_index(name=\"count\")[\"count\"].unique()"
   ]
  },
  {
   "cell_type": "code",
   "execution_count": 3,
   "metadata": {},
   "outputs": [],
   "source": [
    "from pyspark.sql.session import SparkSession"
   ]
  },
  {
   "cell_type": "code",
   "execution_count": 6,
   "metadata": {},
   "outputs": [],
   "source": [
    "with SparkSession.builder.appName(\"KafkaStreaming\").master(\n",
    "    \"local[*]\"\n",
    ").getOrCreate() as spark:\n",
    "    DB_TABLE = \"SongDim\"\n",
    "    DB_URL = f\"jdbc:postgresql://localhost:5432/dwh\"\n",
    "    DB_PROPERTIES = {\n",
    "        \"user\": \"root\",\n",
    "        \"password\": \"root\",\n",
    "        \"driver\": \"org.postgresql.Driver\",\n",
    "    }\n",
    "\n",
    "    df = spark.read.option(\"header\", \"true\").csv(\n",
    "        \"/home/lupusruber/music_analytics/SongDimHeader.csv\"\n",
    "    )\n",
    "    df.write.jdbc(\n",
    "        url=DB_URL, table=DB_TABLE, mode=\"overwrite\", properties=DB_PROPERTIES\n",
    "    )\n",
    "    spark.stop()"
   ]
  }
 ],
 "metadata": {
  "kernelspec": {
   "display_name": "music_analytics",
   "language": "python",
   "name": "python3"
  },
  "language_info": {
   "codemirror_mode": {
    "name": "ipython",
    "version": 3
   },
   "file_extension": ".py",
   "mimetype": "text/x-python",
   "name": "python",
   "nbconvert_exporter": "python",
   "pygments_lexer": "ipython3",
   "version": "3.12.5"
  }
 },
 "nbformat": 4,
 "nbformat_minor": 2
}
